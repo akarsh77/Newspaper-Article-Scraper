{
 "cells": [
  {
   "cell_type": "code",
   "execution_count": 17,
   "metadata": {},
   "outputs": [],
   "source": [
    "import nltk\n",
    "from newspaper import Article\n",
    "# select a url of any news article\n",
    "url = 'https://timesofindia.indiatimes.com/city/guwahati/assam-floods-hit-nearly-2-lakh-population-over-9000-take-shelter-in-camps/articleshow/76009962.cms'\n",
    "article = Article(url)"
   ]
  },
  {
   "cell_type": "code",
   "execution_count": 18,
   "metadata": {},
   "outputs": [
    {
     "name": "stderr",
     "output_type": "stream",
     "text": [
      "[nltk_data] Downloading package punkt to /home/akarsh/nltk_data...\n",
      "[nltk_data]   Package punkt is already up-to-date!\n"
     ]
    }
   ],
   "source": [
    "#NLP\n",
    "article.download()\n",
    "article.parse()\n",
    "nltk.download('punkt')\n",
    "article.nlp()"
   ]
  },
  {
   "cell_type": "code",
   "execution_count": 19,
   "metadata": {},
   "outputs": [
    {
     "data": {
      "text/plain": [
       "[]"
      ]
     },
     "execution_count": 19,
     "metadata": {},
     "output_type": "execute_result"
    }
   ],
   "source": [
    "article.authors\n",
    "#No author for this article, hence blank"
   ]
  },
  {
   "cell_type": "code",
   "execution_count": 20,
   "metadata": {},
   "outputs": [],
   "source": [
    "article.publish_date"
   ]
  },
  {
   "cell_type": "code",
   "execution_count": 21,
   "metadata": {},
   "outputs": [
    {
     "data": {
      "text/plain": [
       "'https://static.toiimg.com/thumb/msid-76009901,width-1070,height-580,imgsize-147456,resizemode-75,overlay-toi_sw,pt-32,y_pad-40/photo.jpg'"
      ]
     },
     "execution_count": 21,
     "metadata": {},
     "output_type": "execute_result"
    }
   ],
   "source": [
    "article.top_image"
   ]
  },
  {
   "cell_type": "code",
   "execution_count": 22,
   "metadata": {},
   "outputs": [
    {
     "name": "stdout",
     "output_type": "stream",
     "text": [
      "GUWAHATI: Nearly two lakh people in Assam have been hit and nearly 9000 of them have been forced to take shelter in relief camps as the situation due to the first wave of flood worsened on Tuesday. More than 220 villages in seven affected districts have been inundated.The Central Water Commission (CWC) has issued an alert saying that Assam is in severe flood situation, which is expected to deteriorate further while the met department’s warning indicated ‘heavy to very heavy’ rainfall at isolated places in the state over the next five days.The water commission in its tweet said, “River Brahmaputra at Neamatighat in #Jorhat District #Assam State continues in Severe Flood Situation with rising trend and is expected to rise further till tomorrow.”In another alarming tweet the CWC said, “River Brahmaputra (main river) at Neamatighat #Jorhat District #Assam State is rising and flowing in Severe Flood Situation at 1300 hrs on 25th May 2020 and is likely to rise further.”Assam State Disaster Management Authority (ASDMA) stated that seven districts—Dibrugarh, Tinsukia, Lakhimpur, Dhemaji, Darrang, Nalbari and Goalpara have been affected so far. Goalpara district is the worst-hit where a population of 1,68,196 has been affected followed by 10,943 in Nalbari district, 7,897 in Dibrugarh district, 3455 in Tinsukia district, 2970 in Lakhimpur district, 845 in Darrang district and 610 in Dhemaji district.Out of the displaced population, who have been put up in relief camps, 8941 are in Goalpara district and rest 30 are in Tinsukia district, ASDMA stated.The current first wave of flood struck on May 21. In last 24 hours the affected population has increased by over 70,000 from the affected population of 30,000 on Monday.According to the CWC data, water levels in Naematighat station in Jorhat stood at 85.89 meters, which is over 0.8 meters above the danger level. Highest flooding level in the area is 87.37 meters which was last achieved on July 11, 1991.Similarly, in Sonitpur and Baksa districts, the water levels have crossed the danger mark and are set to touch the highest flooding levels. The Beki road bridge station in Barpeta district recorded 44.7 meters water level, which is 0.6 meters above the warning level and 0.4 meters below the danger level.At Manas HS crossing station in Barpeta district water level is at 48.36, 0.5 meters above the warning level and 0.1 meters below the danger level. Similarly, in Sonitpur and Baksa districts, the water levels have crossed the danger mark and are set to touch the highest flooding levels.\n"
     ]
    }
   ],
   "source": [
    "print(article.text)"
   ]
  },
  {
   "cell_type": "code",
   "execution_count": 23,
   "metadata": {},
   "outputs": [
    {
     "name": "stdout",
     "output_type": "stream",
     "text": [
      "GUWAHATI: Nearly two lakh people in Assam have been hit and nearly 9000 of them have been forced to take shelter in relief camps as the situation due to the first wave of flood worsened on Tuesday.\n",
      "In last 24 hours the affected population has increased by over 70,000 from the affected population of 30,000 on Monday.According to the CWC data, water levels in Naematighat station in Jorhat stood at 85.89 meters, which is over 0.8 meters above the danger level.\n",
      "Highest flooding level in the area is 87.37 meters which was last achieved on July 11, 1991.Similarly, in Sonitpur and Baksa districts, the water levels have crossed the danger mark and are set to touch the highest flooding levels.\n",
      "The Beki road bridge station in Barpeta district recorded 44.7 meters water level, which is 0.6 meters above the warning level and 0.4 meters below the danger level.At Manas HS crossing station in Barpeta district water level is at 48.36, 0.5 meters above the warning level and 0.1 meters below the danger level.\n",
      "Similarly, in Sonitpur and Baksa districts, the water levels have crossed the danger mark and are set to touch the highest flooding levels.\n"
     ]
    }
   ],
   "source": [
    "print(article.summary)"
   ]
  },
  {
   "cell_type": "code",
   "execution_count": null,
   "metadata": {},
   "outputs": [],
   "source": []
  }
 ],
 "metadata": {
  "kernelspec": {
   "display_name": "Python 3",
   "language": "python",
   "name": "python3"
  },
  "language_info": {
   "codemirror_mode": {
    "name": "ipython",
    "version": 3
   },
   "file_extension": ".py",
   "mimetype": "text/x-python",
   "name": "python",
   "nbconvert_exporter": "python",
   "pygments_lexer": "ipython3",
   "version": "3.8.2"
  }
 },
 "nbformat": 4,
 "nbformat_minor": 4
}
